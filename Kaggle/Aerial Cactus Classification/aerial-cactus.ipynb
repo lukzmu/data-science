{
 "cells": [
  {
   "cell_type": "markdown",
   "metadata": {},
   "source": [
    "# Aerial Cactus Identification\n",
    "> To assess the impact of climate change on Earth's flora and fauna, it is vital to quantify how human activities such as logging, mining, and agriculture are impacting our protected natural areas. Researchers in Mexico have created the VIGIA project, which aims to build a system for autonomous surveillance of protected areas. A first step in such an effort is the ability to recognize the vegetation inside the protected areas. In this competition, you are tasked with creation of an algorithm that can identify a specific type of cactus in aerial imagery."
   ]
  },
  {
   "cell_type": "code",
   "execution_count": 1,
   "metadata": {
    "_cell_guid": "79c7e3d0-c299-4dcb-8224-4455121ee9b0",
    "_uuid": "d629ff2d2480ee46fbb7e2d37f6b5fab8052498a"
   },
   "outputs": [],
   "source": [
    "# Python imports\n",
    "import os\n",
    "from datetime import datetime\n",
    "\n",
    "# Math imports\n",
    "import numpy as np\n",
    "\n",
    "# Data and plots imports\n",
    "import pandas as pd\n",
    "import matplotlib.pyplot as plt\n",
    "import matplotlib.image as mpimg\n",
    "import seaborn as sns\n",
    "\n",
    "# Machine Learning imports\n",
    "import torch\n",
    "import torch.optim as optim\n",
    "import torch.nn as nn\n",
    "import torch.nn.functional as F\n",
    "from torch.utils.data import DataLoader, Dataset\n",
    "import torchvision\n",
    "import torchvision.transforms as transforms\n",
    "from sklearn.model_selection import train_test_split"
   ]
  },
  {
   "cell_type": "markdown",
   "metadata": {},
   "source": [
    "## Initial investigation"
   ]
  },
  {
   "cell_type": "code",
   "execution_count": 2,
   "metadata": {},
   "outputs": [
    {
     "name": "stdout",
     "output_type": "stream",
     "text": [
      "['test', 'train', 'train.csv', 'sample_submission.csv']\n"
     ]
    }
   ],
   "source": [
    "# First we need to assign the paths to variables and load the data\n",
    "print(os.listdir(\"../input\"))\n",
    "test_path = '../input/test/test/'\n",
    "train_path = '../input/train/train/'\n",
    "train_df = pd.read_csv('../input/train.csv')"
   ]
  },
  {
   "cell_type": "code",
   "execution_count": 3,
   "metadata": {},
   "outputs": [
    {
     "data": {
      "text/html": [
       "<div>\n",
       "<style scoped>\n",
       "    .dataframe tbody tr th:only-of-type {\n",
       "        vertical-align: middle;\n",
       "    }\n",
       "\n",
       "    .dataframe tbody tr th {\n",
       "        vertical-align: top;\n",
       "    }\n",
       "\n",
       "    .dataframe thead th {\n",
       "        text-align: right;\n",
       "    }\n",
       "</style>\n",
       "<table border=\"1\" class=\"dataframe\">\n",
       "  <thead>\n",
       "    <tr style=\"text-align: right;\">\n",
       "      <th></th>\n",
       "      <th>id</th>\n",
       "      <th>has_cactus</th>\n",
       "    </tr>\n",
       "  </thead>\n",
       "  <tbody>\n",
       "    <tr>\n",
       "      <th>0</th>\n",
       "      <td>0004be2cfeaba1c0361d39e2b000257b.jpg</td>\n",
       "      <td>1</td>\n",
       "    </tr>\n",
       "    <tr>\n",
       "      <th>1</th>\n",
       "      <td>000c8a36845c0208e833c79c1bffedd1.jpg</td>\n",
       "      <td>1</td>\n",
       "    </tr>\n",
       "    <tr>\n",
       "      <th>2</th>\n",
       "      <td>000d1e9a533f62e55c289303b072733d.jpg</td>\n",
       "      <td>1</td>\n",
       "    </tr>\n",
       "    <tr>\n",
       "      <th>3</th>\n",
       "      <td>0011485b40695e9138e92d0b3fb55128.jpg</td>\n",
       "      <td>1</td>\n",
       "    </tr>\n",
       "    <tr>\n",
       "      <th>4</th>\n",
       "      <td>0014d7a11e90b62848904c1418fc8cf2.jpg</td>\n",
       "      <td>1</td>\n",
       "    </tr>\n",
       "  </tbody>\n",
       "</table>\n",
       "</div>"
      ],
      "text/plain": [
       "                                     id  has_cactus\n",
       "0  0004be2cfeaba1c0361d39e2b000257b.jpg           1\n",
       "1  000c8a36845c0208e833c79c1bffedd1.jpg           1\n",
       "2  000d1e9a533f62e55c289303b072733d.jpg           1\n",
       "3  0011485b40695e9138e92d0b3fb55128.jpg           1\n",
       "4  0014d7a11e90b62848904c1418fc8cf2.jpg           1"
      ]
     },
     "execution_count": 3,
     "metadata": {},
     "output_type": "execute_result"
    }
   ],
   "source": [
    "# Display the head of the dataset\n",
    "train_df.head()"
   ]
  },
  {
   "cell_type": "code",
   "execution_count": 4,
   "metadata": {},
   "outputs": [
    {
     "name": "stdout",
     "output_type": "stream",
     "text": [
      "<class 'pandas.core.frame.DataFrame'>\n",
      "RangeIndex: 17500 entries, 0 to 17499\n",
      "Data columns (total 2 columns):\n",
      "id            17500 non-null object\n",
      "has_cactus    17500 non-null int64\n",
      "dtypes: int64(1), object(1)\n",
      "memory usage: 273.5+ KB\n"
     ]
    }
   ],
   "source": [
    "# Get the information about entries\n",
    "train_df.info()"
   ]
  },
  {
   "cell_type": "code",
   "execution_count": 5,
   "metadata": {},
   "outputs": [
    {
     "data": {
      "text/plain": [
       "1    13136\n",
       "0     4364\n",
       "Name: has_cactus, dtype: int64"
      ]
     },
     "execution_count": 5,
     "metadata": {},
     "output_type": "execute_result"
    }
   ],
   "source": [
    "# Check how many cactus and non-cactus images we have\n",
    "train_df['has_cactus'].value_counts()"
   ]
  },
  {
   "cell_type": "code",
   "execution_count": 6,
   "metadata": {},
   "outputs": [
    {
     "data": {
      "image/png": "[encoded data removed]",
      "text/plain": [
       "<Figure size 720x720 with 5 Axes>"
      ]
     },
     "metadata": {},
     "output_type": "display_data"
    }
   ],
   "source": [
    "# Create a list of images to display\n",
    "images = [mpimg.imread(os.path.join(train_path, train_df.iloc[i,0])) for i in range(0,5)]\n",
    "\n",
    "# Display the images in 5 columns\n",
    "plt.figure(figsize=(10,10))\n",
    "columns = 5\n",
    "for i, image in enumerate(images):\n",
    "    plt.subplot(len(images) / columns + 1, columns, i + 1)\n",
    "    plt.imshow(image)"
   ]
  },
  {
   "cell_type": "markdown",
   "metadata": {},
   "source": [
    "## Prepare the data"
   ]
  },
  {
   "cell_type": "code",
   "execution_count": 7,
   "metadata": {},
   "outputs": [],
   "source": [
    "class CactusDataset(Dataset):\n",
    "    def __init__(self, labels, data_dir, transform=None):\n",
    "        super().__init__()\n",
    "        self.labels = labels.values\n",
    "        self.data_dir = data_dir\n",
    "        self.transform = transform\n",
    "    \n",
    "    def __len__(self):\n",
    "        return len(self.labels)\n",
    "    \n",
    "    def __getitem__(self, index):\n",
    "        name, label = self.labels[index]\n",
    "        img_path = os.path.join(self.data_dir, name)\n",
    "        img = mpimg.imread(img_path)\n",
    "        \n",
    "        if self.transform is not None:\n",
    "            img = self.transform(img)\n",
    "        return img, label"
   ]
  },
  {
   "cell_type": "code",
   "execution_count": 8,
   "metadata": {},
   "outputs": [],
   "source": [
    "# Prepare the data\n",
    "train, valid = train_test_split(train_df, stratify=train_df['has_cactus'], test_size=0.2)\n",
    "\n",
    "train_tf = transforms.Compose([\n",
    "    transforms.ToPILImage(),\n",
    "    transforms.ToTensor(),\n",
    "])\n",
    "valid_tf = transforms.Compose([\n",
    "    transforms.ToPILImage(),\n",
    "    transforms.ToTensor(),\n",
    "])\n",
    "\n",
    "train_data = CactusDataset(\n",
    "    labels=train,\n",
    "    data_dir=train_path,\n",
    "    transform=train_tf,\n",
    ")\n",
    "valid_data = CactusDataset(\n",
    "    labels=valid,\n",
    "    data_dir=train_path,\n",
    "    transform=valid_tf,\n",
    ")"
   ]
  },
  {
   "cell_type": "markdown",
   "metadata": {},
   "source": [
    "## Network"
   ]
  },
  {
   "cell_type": "code",
   "execution_count": 9,
   "metadata": {},
   "outputs": [],
   "source": [
    "# Create the network\n",
    "class Net(nn.Module):\n",
    "    def __init__(self):\n",
    "        super(Net, self).__init__()\n",
    "        self.pool = nn.MaxPool2d(2, 2)\n",
    "        self.conv1 = nn.Conv2d(\n",
    "            in_channels=3,\n",
    "            out_channels=16,\n",
    "            kernel_size=3,\n",
    "            stride=1,\n",
    "            padding=1\n",
    "        )\n",
    "        self.conv2 = nn.Conv2d(\n",
    "            in_channels=16,\n",
    "            out_channels=32,\n",
    "            kernel_size=3,\n",
    "            stride=1,\n",
    "            padding=1\n",
    "        )\n",
    "        self.conv3 = nn.Conv2d(\n",
    "            in_channels=32,\n",
    "            out_channels=64,\n",
    "            kernel_size=3,\n",
    "            stride=1,\n",
    "            padding=1\n",
    "        )\n",
    "        self.fc1 = nn.Linear(64 * 8 * 8, 512)\n",
    "        self.output = nn.Linear(512, 2)\n",
    "    \n",
    "    def forward(self, x):\n",
    "        x = F.relu(self.conv1(x))\n",
    "        x = self.pool(F.relu(self.conv2(x)))\n",
    "        x = self.pool(F.relu(self.conv3(x)))\n",
    "        x = x.view(-1, 64 * 8 * 8)\n",
    "        x = F.relu(self.fc1(x))\n",
    "        x = self.output(x)\n",
    "        return x"
   ]
  },
  {
   "cell_type": "markdown",
   "metadata": {},
   "source": [
    "## Training"
   ]
  },
  {
   "cell_type": "code",
   "execution_count": 10,
   "metadata": {},
   "outputs": [],
   "source": [
    "# Hyper parameters\n",
    "device = torch.device('cuda:0' if torch.cuda.is_available() else 'cpu')\n",
    "n_epochs = 20\n",
    "n_classes = 2\n",
    "batch_size = 50\n",
    "learning_rate = 0.001"
   ]
  },
  {
   "cell_type": "code",
   "execution_count": 11,
   "metadata": {},
   "outputs": [],
   "source": [
    "# Define loss and optimizer\n",
    "model = Net().to(device)\n",
    "criterion = nn.CrossEntropyLoss()\n",
    "optimizer = torch.optim.Adam(model.parameters(), lr=learning_rate)"
   ]
  },
  {
   "cell_type": "code",
   "execution_count": 12,
   "metadata": {},
   "outputs": [],
   "source": [
    "# Create data loaders\n",
    "train_loader = DataLoader(dataset=train_data, batch_size=batch_size, shuffle=True)\n",
    "valid_loader = DataLoader(dataset=valid_data, batch_size=batch_size, shuffle=False)"
   ]
  },
  {
   "cell_type": "code",
   "execution_count": 13,
   "metadata": {
    "_kg_hide-output": true
   },
   "outputs": [
    {
     "name": "stdout",
     "output_type": "stream",
     "text": [
      "Epoch [01/20], Loss: 0.2651, Accuracy: 0.9417, Epoch Time: 0:00:35.534621\n",
      "Epoch [02/20], Loss: 0.1281, Accuracy: 0.9697, Epoch Time: 0:00:13.889656\n",
      "Epoch [03/20], Loss: 0.0898, Accuracy: 0.9700, Epoch Time: 0:00:14.341470\n",
      "Epoch [04/20], Loss: 0.0798, Accuracy: 0.9811, Epoch Time: 0:00:16.945661\n",
      "Epoch [05/20], Loss: 0.0559, Accuracy: 0.9649, Epoch Time: 0:00:13.536862\n",
      "Epoch [06/20], Loss: 0.0460, Accuracy: 0.9823, Epoch Time: 0:00:13.163445\n",
      "Epoch [07/20], Loss: 0.0320, Accuracy: 0.9860, Epoch Time: 0:00:12.384100\n",
      "Epoch [08/20], Loss: 0.0245, Accuracy: 0.9894, Epoch Time: 0:00:12.185124\n",
      "Epoch [09/20], Loss: 0.0169, Accuracy: 0.9923, Epoch Time: 0:00:12.418274\n",
      "Epoch [10/20], Loss: 0.0152, Accuracy: 0.9943, Epoch Time: 0:00:12.398733\n",
      "Epoch [11/20], Loss: 0.0117, Accuracy: 0.9934, Epoch Time: 0:00:12.236508\n",
      "Epoch [12/20], Loss: 0.0100, Accuracy: 0.9929, Epoch Time: 0:00:12.928314\n",
      "Epoch [13/20], Loss: 0.0088, Accuracy: 0.9914, Epoch Time: 0:00:12.672373\n",
      "Epoch [14/20], Loss: 0.0112, Accuracy: 0.9800, Epoch Time: 0:00:11.927153\n",
      "Epoch [15/20], Loss: 0.0063, Accuracy: 0.9934, Epoch Time: 0:00:12.686620\n",
      "Epoch [16/20], Loss: 0.0067, Accuracy: 0.9917, Epoch Time: 0:00:12.203954\n",
      "Epoch [17/20], Loss: 0.0159, Accuracy: 0.9894, Epoch Time: 0:00:12.552919\n",
      "Epoch [18/20], Loss: 0.0047, Accuracy: 0.9846, Epoch Time: 0:00:12.023296\n",
      "Epoch [19/20], Loss: 0.0025, Accuracy: 0.9940, Epoch Time: 0:00:12.108929\n",
      "Epoch [20/20], Loss: 0.0003, Accuracy: 0.9937, Epoch Time: 0:00:13.313514\n"
     ]
    }
   ],
   "source": [
    "steps = len(train_loader)\n",
    "results = []\n",
    "\n",
    "for epoch in range(n_epochs):\n",
    "    t_start = datetime.now()\n",
    "    model.train()\n",
    "    epoch_loss = 0\n",
    "    \n",
    "    for i, (images, labels) in enumerate(train_loader):\n",
    "        images = images.to(device)\n",
    "        labels = labels.to(device)\n",
    "        \n",
    "        # Forward pass\n",
    "        outputs = model(images)\n",
    "        loss = criterion(outputs, labels)\n",
    "        \n",
    "        # Backward and optimize\n",
    "        optimizer.zero_grad()\n",
    "        loss.backward()\n",
    "        optimizer.step()\n",
    "        \n",
    "        # Pass loss to outer loop\n",
    "        epoch_loss += loss.item()\n",
    "        \n",
    "    epoch_loss = epoch_loss / len(train_loader)\n",
    "    t_elapsed = datetime.now() - t_start\n",
    "    \n",
    "    # Model evaluation\n",
    "    model.eval()\n",
    "    correct = 0\n",
    "    total = 0\n",
    "    with torch.no_grad():        \n",
    "        for images, labels in valid_loader:\n",
    "            images = images.to(device)\n",
    "            labels = labels.to(device)\n",
    "            outputs = model(images)\n",
    "            _, predicted = torch.max(outputs.data, 1)\n",
    "            total += labels.size(0)\n",
    "            correct += (predicted == labels).sum().item()\n",
    "            \n",
    "    # Calculate accuracy\n",
    "    epoch_acc = correct / total\n",
    "    \n",
    "    # Save results for display\n",
    "    results.append({'Epoch': epoch+1, 'Loss': epoch_loss, 'Accuracy': epoch_acc})\n",
    "        \n",
    "    # Print out epoch data\n",
    "    print ('Epoch [{:0>2d}/{}], Loss: {:.4f}, Accuracy: {:.4f}, Epoch Time: {}'.format(\n",
    "        epoch+1, n_epochs, epoch_loss, epoch_acc, t_elapsed,\n",
    "    ))"
   ]
  },
  {
   "cell_type": "code",
   "execution_count": 14,
   "metadata": {},
   "outputs": [
    {
     "data": {
      "image/png": "[encoded data removed]",
      "text/plain": [
       "<Figure size 432x288 with 2 Axes>"
      ]
     },
     "metadata": {},
     "output_type": "display_data"
    }
   ],
   "source": [
    "# Store validation results in a DataFrame\n",
    "results_df = pd.DataFrame(results)\n",
    "results_df.set_index('Epoch', inplace=True)\n",
    "results_df.head()\n",
    "\n",
    "# Display validation results on graph\n",
    "fig, ax =plt.subplots(2,1)\n",
    "sns.lineplot(data=results_df, x=results_df.index, y='Loss', ax=ax[0])\n",
    "sns.lineplot(data=results_df, x=results_df.index, y='Accuracy', ax=ax[1])\n",
    "fig.show()"
   ]
  },
  {
   "cell_type": "markdown",
   "metadata": {},
   "source": [
    "## Submission"
   ]
  },
  {
   "cell_type": "code",
   "execution_count": 15,
   "metadata": {},
   "outputs": [],
   "source": [
    "# Prepare result data\n",
    "result_df = pd.read_csv('../input/sample_submission.csv')\n",
    "test_data = CactusDataset(\n",
    "    labels=result_df,\n",
    "    data_dir=test_path,\n",
    "    transform=valid_tf\n",
    ")\n",
    "test_loader = DataLoader(\n",
    "    dataset=test_data,\n",
    "    batch_size=batch_size,\n",
    "    shuffle=False\n",
    ")"
   ]
  },
  {
   "cell_type": "code",
   "execution_count": 16,
   "metadata": {},
   "outputs": [],
   "source": [
    "# Create a submission file for test data\n",
    "model.eval()\n",
    "predictions = []\n",
    "for batch_i, (data, target) in enumerate(test_loader):\n",
    "    data = data.to(device)\n",
    "    target = target.to(device)\n",
    "    output = model(data)\n",
    "\n",
    "    pr = output[:,1].detach().cpu().numpy()\n",
    "    for i in pr:\n",
    "        predictions.append(i)\n",
    "\n",
    "result_df['has_cactus'] = predictions\n",
    "result_df.to_csv('submission.csv', index=False)"
   ]
  }
 ],
 "metadata": {
  "kernelspec": {
   "display_name": "Python 3",
   "language": "python",
   "name": "python3"
  },
  "language_info": {
   "codemirror_mode": {
    "name": "ipython",
    "version": 3
   },
   "file_extension": ".py",
   "mimetype": "text/x-python",
   "name": "python",
   "nbconvert_exporter": "python",
   "pygments_lexer": "ipython3",
   "version": "3.6.4"
  }
 },
 "nbformat": 4,
 "nbformat_minor": 1
}
